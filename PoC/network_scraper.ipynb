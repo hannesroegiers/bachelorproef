{
 "cells": [
  {
   "cell_type": "code",
   "execution_count": 8,
   "metadata": {},
   "outputs": [],
   "source": [
    "import json\n",
    "import requests\n",
    "from selenium import webdriver\n",
    "from selenium.webdriver.chrome.options import Options"
   ]
  },
  {
   "cell_type": "code",
   "execution_count": 9,
   "metadata": {},
   "outputs": [],
   "source": [
    "options = Options()\n",
    "options.set_capability('goog:loggingPrefs', {'performance': 'ALL'})\n",
    "\n",
    "url = \"https://www.oddsportal.com/football/belgium/jupiler-pro-league/\"\n",
    "driver = webdriver.Chrome(options=options)\n",
    "driver.get(url)\n",
    "performance_logs = driver.get_log(\"performance\")\n",
    "driver.quit()\n"
   ]
  },
  {
   "cell_type": "code",
   "execution_count": 10,
   "metadata": {},
   "outputs": [],
   "source": [
    "filtered_logs = []\n",
    "filter_list = [\"Network.request\", \"Network.response\"]\n",
    "\n",
    "for entry in performance_logs:\n",
    "    networktraffic = json.loads(entry[\"message\"])[\"message\"]\n",
    "    if any(keyword in networktraffic[\"method\"] for keyword in filter_list):\n",
    "        filtered_logs.append(networktraffic)"
   ]
  },
  {
   "cell_type": "code",
   "execution_count": 11,
   "metadata": {},
   "outputs": [
    {
     "name": "stdout",
     "output_type": "stream",
     "text": [
      "https://content.livesportmedia.eu/delivery?zones=3991,3989,3990,5989,9977&clientType=PC&no_flash=1&programmatic=false\n",
      "https://geolocation.onetrust.com/cookieconsentpub/v1/geo/location\n",
      "https://www.oddsportal.com/ajax-all-events/topEvents\n",
      "https://www.oddsportal.com/ajax-getCount/MyBookmarks/\n",
      "https://www.oddsportal.com/ajax-getCount/MyCoupon/\n",
      "https://www.oddsportal.com/ajax-sport-country-tournament_/1/nZN1aXIj/X360488X0X0X0X0X0X0X0X0X0X0X0X0X134217729X0X1048578X0X0X1024X18464X131072X256/1/?_=1724185892\n"
     ]
    }
   ],
   "source": [
    "urls = []\n",
    "for log in filtered_logs:\n",
    "    try:\n",
    "        if(log[\"params\"][\"type\"] == 'XHR'):\n",
    "            url = log[\"params\"][\"request\"][\"url\"]\n",
    "            urls.append(url)\n",
    "    except:\n",
    "        pass\n",
    "\n",
    "filter_list = [\".svg\", \".png\", \"/js/\", \".js\", \".css\", \".ico\"]\n",
    "filtered_urls = [url for url in urls if not any(filter_str in url for filter_str in filter_list)]\n",
    "\n",
    "for url in filtered_urls:\n",
    "    print(url)\n"
   ]
  },
  {
   "cell_type": "markdown",
   "metadata": {},
   "source": [
    "# Finding the request(s) needed"
   ]
  },
  {
   "cell_type": "code",
   "execution_count": 12,
   "metadata": {},
   "outputs": [],
   "source": [
    "import re\n",
    "\n",
    "def check_url_contents(url, words=None, regex_patterns: list=None):\n",
    "    headers = { \n",
    "           \"User-Agent\": \"Mozilla/5.0 (Windows NT 10.0; Win64; x64) AppleWebKit/537.36 (KHTML, like Gecko) Chrome/58.0.3029.110 Safari/537.3\"\n",
    "    }\n",
    "    response = requests.get(url, headers=headers)\n",
    "    \n",
    "    results = {'words': {}, 'regex_patterns': {}}\n",
    "    \n",
    "    if response.status_code == 200:\n",
    "        content = response.text\n",
    "        \n",
    "        if words:\n",
    "            for word in words:\n",
    "                count = content.lower().count(word.lower())\n",
    "                results['words'][word] = count\n",
    "                \n",
    "        if regex_patterns:\n",
    "            for regex in regex_patterns:\n",
    "                pattern = re.compile(regex)\n",
    "                matches = pattern.findall(content)\n",
    "                results['regex_patterns'][regex] = len(matches)\n",
    "    \n",
    "    return results"
   ]
  },
  {
   "cell_type": "code",
   "execution_count": 13,
   "metadata": {},
   "outputs": [],
   "source": [
    "def rank_urls(urls, words=None, regex_patterns=None):\n",
    "    url_scores = {}\n",
    "    for url in urls:\n",
    "        results = check_url_contents(url, words,regex_patterns)\n",
    "        score=0\n",
    "        if words:\n",
    "            score+= sum(results['words'].values())\n",
    "        if regex_patterns:\n",
    "            score+= sum(results['regex_patterns'].values())\n",
    "        url_scores[url] = score\n",
    "        \n",
    "    sorted_urls = sorted(url_scores.items(), key=lambda x:x[1], reverse=True)\n",
    "    \n",
    "    return sorted_urls\n",
    "        "
   ]
  },
  {
   "cell_type": "code",
   "execution_count": 14,
   "metadata": {},
   "outputs": [
    {
     "name": "stdout",
     "output_type": "stream",
     "text": [
      "1: https://www.oddsportal.com/ajax-sport-country-tournament_/1/nZN1aXIj/X360488X0X0X0X0X0X0X0X0X0X0X0X0X134217729X0X1048578X0X0X1024X18464X131072X256/1/?_=1724185892\n"
     ]
    }
   ],
   "source": [
    "\n",
    "result = rank_urls(filtered_urls, ['bet', 'odds', 'avg', 'average', '2.01'])\n",
    "\n",
    "for index, entry in enumerate(result, start=1):\n",
    "        if entry[1] < 1:\n",
    "            break\n",
    "        print(f\"{index}: {entry[0]}\")"
   ]
  }
 ],
 "metadata": {
  "kernelspec": {
   "display_name": "Python 3",
   "language": "python",
   "name": "python3"
  },
  "language_info": {
   "codemirror_mode": {
    "name": "ipython",
    "version": 3
   },
   "file_extension": ".py",
   "mimetype": "text/x-python",
   "name": "python",
   "nbconvert_exporter": "python",
   "pygments_lexer": "ipython3",
   "version": "3.10.2"
  }
 },
 "nbformat": 4,
 "nbformat_minor": 2
}
