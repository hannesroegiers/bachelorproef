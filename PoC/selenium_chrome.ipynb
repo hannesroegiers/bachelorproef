{
 "cells": [
  {
   "cell_type": "code",
   "execution_count": 1,
   "metadata": {},
   "outputs": [],
   "source": [
    "from selenium import webdriver\n",
    "import json\n",
    "from selenium.webdriver.chrome.options import Options\n",
    "from selenium.webdriver.chrome.service import Service\n",
    "from selenium.webdriver.common.desired_capabilities import DesiredCapabilities"
   ]
  },
  {
   "cell_type": "code",
   "execution_count": 2,
   "metadata": {},
   "outputs": [],
   "source": [
    "def web_scrape(url):\n",
    "    options = Options()\n",
    "    options.add_argument(\"--enable-performance-logging\")\n",
    "    options.set_capability('goog:loggingPrefs', {'performance': 'ALL'})\n",
    "\n",
    "    driver = webdriver.Chrome(options=options)\n",
    "    driver.get(url)\n",
    "    log = driver.get_log(\"performance\")\n",
    "    driver.quit()\n",
    "    \n",
    "    return log"
   ]
  },
  {
   "cell_type": "code",
   "execution_count": 4,
   "metadata": {},
   "outputs": [],
   "source": [
    "url = \"https://www.oddsportal.com/football/belgium/jupiler-pro-league/\"\n",
    "logs = web_scrape(url)"
   ]
  },
  {
   "cell_type": "code",
   "execution_count": 4,
   "metadata": {},
   "outputs": [],
   "source": [
    "with open(\"oddsportal_network_dump.txt\", 'w') as f:\n",
    "    for i in logs:\n",
    "        test = i['message']\n",
    "        json_obj = json.loads(test)\n",
    "        json_formatted = json.dumps(json_obj, indent=2)\n",
    "        f.write(json_formatted)\n",
    "    f.close()"
   ]
  },
  {
   "cell_type": "code",
   "execution_count": 5,
   "metadata": {},
   "outputs": [],
   "source": [
    "with open(\"oddsportal_network_dump.json\", 'w', encoding=\"utf-8\") as f:\n",
    "    f.write(\"[\")\n",
    "    for log in logs:\n",
    "        network_log = json.loads(log[\"message\"])[\"message\"]\n",
    "        if(\"Network.response\" in network_log[\"method\"] or \"Network.request\" in network_log[\"method\"] or \"Network.webSocket\" in network_log[\"method\"]):\n",
    "            f.write(json.dumps(network_log)+\",\")\n",
    "    f.write(\"{}]\")"
   ]
  },
  {
   "cell_type": "code",
   "execution_count": 16,
   "metadata": {},
   "outputs": [
    {
     "name": "stdout",
     "output_type": "stream",
     "text": [
      "https://www.oddsportal.com/football/belgium/jupiler-pro-league/\n",
      "https://www.oddsportal.com/ajax-user-data/t/71596/?171455841533686c2d8930be81c843ffb7d4312605\n",
      "https://www.oddsportal.com/res/public/fonts/OpenSans-Regular.woff2\n",
      "https://www.oddsportal.com/res/public/fonts/OpenSans-Bold.woff2\n",
      "https://content.livesportmedia.eu/delivery?zones=3991,3989,3990,5989,6061&clientType=PC&no_flash=1&programmatic=false\n",
      "https://geolocation.onetrust.com/cookieconsentpub/v1/geo/location\n",
      "https://www.oddsportal.com/ajax-getCount/MyBookmarks/\n",
      "https://www.oddsportal.com/ajax-getCount/MyCoupon/\n",
      "https://www.oddsportal.com/ajax-sport-country-tournament_/1/zun4qzgk/X0/1/?_=1714558415\n",
      "https://www.googletagmanager.com/gtag/js?id=G-5YY4JY41P1&l=dataLayer&cx=c\n",
      "https://region1.google-analytics.com/g/collect?v=2&tid=G-5YY4JY41P1&gtm=45je44t0v884757901z872785439za200&_p=1714558416820&gcs=G100&gcd=13p3pPp2p5&npa=1&dma_cps=-&dma=1&tcfd=10001&gdid=dYWJhMj&cid=1759878428.1714558417&ul=en-us&sr=1920x1080&uaa=x86&uab=64&uafvl=Chromium%3B124.0.6367.63%7CGoogle%2520Chrome%3B124.0.6367.63%7CNot-A.Brand%3B99.0.0.0&uamb=0&uam=&uap=Windows&uapv=10.0.0&uaw=0&pscdl=denied&_s=1&sid=1714558417&sct=1&seg=0&dl=https%3A%2F%2Fwww.oddsportal.com%2Ffootball%2Fbelgium%2Fjupiler-pro-league%2F&dt=Jupiler%20Pro%20League%20Fixtures%20%26%20Betting%20Odds%2C%20Football%20Belgium%20%7C%20Odds%20Portal&en=page_view&_fv=1&_nsi=1&_ss=1&tfd=1356\n",
      "https://www.oddsportal.com/set-time-zone/37/\n"
     ]
    }
   ],
   "source": [
    "with open(\"oddsportal_network_dump.json\", \"r\", encoding=\"utf8\") as f:\n",
    "    logs = json.loads(f.read())\n",
    "\n",
    "urls = []\n",
    "for log in logs:\n",
    "    try:\n",
    "        url = log[\"params\"][\"request\"][\"url\"]\n",
    "        urls.append(url)\n",
    "    except:\n",
    "        pass\n",
    "\n",
    "filter_list = [\".svg\", \".png\", \"/js/\", \".js\", \".css\", \".ico\"]\n",
    "filtered_urls = [url for url in urls if not any(filter_str in url for filter_str in filter_list)]\n",
    "\n",
    "for url in filtered_urls:\n",
    "    print(url)\n"
   ]
  },
  {
   "cell_type": "markdown",
   "metadata": {},
   "source": [
    "# Finding the request(s) needed"
   ]
  },
  {
   "cell_type": "code",
   "execution_count": null,
   "metadata": {},
   "outputs": [],
   "source": []
  }
 ],
 "metadata": {
  "kernelspec": {
   "display_name": "Python 3",
   "language": "python",
   "name": "python3"
  },
  "language_info": {
   "codemirror_mode": {
    "name": "ipython",
    "version": 3
   },
   "file_extension": ".py",
   "mimetype": "text/x-python",
   "name": "python",
   "nbconvert_exporter": "python",
   "pygments_lexer": "ipython3",
   "version": "3.10.2"
  }
 },
 "nbformat": 4,
 "nbformat_minor": 2
}
