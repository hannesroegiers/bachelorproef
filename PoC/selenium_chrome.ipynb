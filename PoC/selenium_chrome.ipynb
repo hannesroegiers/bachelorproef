{
 "cells": [
  {
   "cell_type": "code",
   "execution_count": 1,
   "metadata": {},
   "outputs": [],
   "source": [
    "from selenium import webdriver\n",
    "import json\n",
    "from selenium.webdriver.chrome.options import Options\n",
    "from selenium.webdriver.chrome.service import Service\n",
    "from selenium.webdriver.common.desired_capabilities import DesiredCapabilities"
   ]
  },
  {
   "cell_type": "code",
   "execution_count": 2,
   "metadata": {},
   "outputs": [],
   "source": [
    "def web_scrape(url):\n",
    "    options = Options()\n",
    "    options.add_argument(\"--enable-performance-logging\")\n",
    "    options.set_capability('goog:loggingPrefs', {'performance': 'ALL'})\n",
    "\n",
    "    driver = webdriver.Chrome(options=options)\n",
    "    driver.get(url)\n",
    "    log = driver.get_log(\"performance\")\n",
    "    driver.quit()\n",
    "    \n",
    "    return log"
   ]
  },
  {
   "cell_type": "code",
   "execution_count": 3,
   "metadata": {},
   "outputs": [],
   "source": [
    "url = \"https://www.oddsportal.com/football/belgium/jupiler-pro-league/\"\n",
    "scraped = web_scrape(url)"
   ]
  },
  {
   "cell_type": "code",
   "execution_count": 4,
   "metadata": {},
   "outputs": [],
   "source": [
    "with open(\"oddsportal_network_dump.txt\", 'w') as f:\n",
    "    for i in scraped:\n",
    "        test = i['message']\n",
    "        json_obj = json.loads(test)\n",
    "        json_formatted = json.dumps(json_obj, indent=2)\n",
    "        f.write(json_formatted)\n",
    "    f.close()"
   ]
  }
 ],
 "metadata": {
  "kernelspec": {
   "display_name": "Python 3",
   "language": "python",
   "name": "python3"
  },
  "language_info": {
   "codemirror_mode": {
    "name": "ipython",
    "version": 3
   },
   "file_extension": ".py",
   "mimetype": "text/x-python",
   "name": "python",
   "nbconvert_exporter": "python",
   "pygments_lexer": "ipython3",
   "version": "3.10.2"
  }
 },
 "nbformat": 4,
 "nbformat_minor": 2
}
