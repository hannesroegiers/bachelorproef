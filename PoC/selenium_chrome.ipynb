{
 "cells": [
  {
   "cell_type": "code",
   "execution_count": 39,
   "metadata": {},
   "outputs": [],
   "source": [
    "from selenium import webdriver\n",
    "import json\n",
    "from selenium.webdriver.chrome.options import Options\n",
    "from selenium.webdriver.chrome.service import Service\n",
    "from selenium.webdriver.common.desired_capabilities import DesiredCapabilities\n",
    "import requests\n",
    "from bs4 import BeautifulSoup\n"
   ]
  },
  {
   "cell_type": "code",
   "execution_count": 40,
   "metadata": {},
   "outputs": [],
   "source": [
    "def web_scrape(url):\n",
    "    options = Options()\n",
    "    options.add_argument(\"--enable-performance-logging\")\n",
    "    options.set_capability('goog:loggingPrefs', {'performance': 'ALL'})\n",
    "\n",
    "    driver = webdriver.Chrome(options=options)\n",
    "    driver.get(url)\n",
    "    log = driver.get_log(\"performance\")\n",
    "    driver.quit()\n",
    "    \n",
    "    return log"
   ]
  },
  {
   "cell_type": "code",
   "execution_count": 41,
   "metadata": {},
   "outputs": [],
   "source": [
    "url = \"https://www.oddsportal.com/football/belgium/jupiler-pro-league/\"\n",
    "logs = web_scrape(url)"
   ]
  },
  {
   "cell_type": "code",
   "execution_count": 42,
   "metadata": {},
   "outputs": [],
   "source": [
    "with open(\"oddsportal_network_dump.json\", 'w', encoding=\"utf-8\") as f:\n",
    "    f.write(\"[\")\n",
    "    for log in logs:\n",
    "        network_log = json.loads(log[\"message\"])[\"message\"]\n",
    "        if \"Network.response\" in network_log[\"method\"] or \"Network.request\" in network_log[\"method\"] or \"Network.webSocket\" in network_log[\"method\"]:\n",
    "            # if(\"\")\n",
    "            f.write(json.dumps(network_log)+\",\")\n",
    "    f.write(\"{}]\")"
   ]
  },
  {
   "cell_type": "code",
   "execution_count": 43,
   "metadata": {},
   "outputs": [
    {
     "name": "stdout",
     "output_type": "stream",
     "text": [
      "https://content.livesportmedia.eu/delivery?zones=3991,3989,3990,5989,6061&clientType=PC&no_flash=1&programmatic=false\n",
      "https://geolocation.onetrust.com/cookieconsentpub/v1/geo/location\n",
      "https://www.oddsportal.com/ajax-sport-country-tournament_/1/zun4qzgk/X0/1/?_=1714565427\n",
      "https://www.oddsportal.com/ajax-getCount/MyBookmarks/\n",
      "https://www.oddsportal.com/ajax-getCount/MyCoupon/\n",
      "https://www.oddsportal.com/set-time-zone/37/\n"
     ]
    }
   ],
   "source": [
    "with open(\"oddsportal_network_dump.json\", \"r\", encoding=\"utf8\") as f:\n",
    "    logs = json.loads(f.read())\n",
    "\n",
    "urls = []\n",
    "for log in logs:\n",
    "    try:\n",
    "        if(log[\"params\"][\"type\"] == 'XHR'):\n",
    "            url = log[\"params\"][\"request\"][\"url\"]\n",
    "            urls.append(url)\n",
    "    except:\n",
    "        pass\n",
    "\n",
    "filter_list = [\".svg\", \".png\", \"/js/\", \".js\", \".css\", \".ico\"]\n",
    "filtered_urls = [url for url in urls if not any(filter_str in url for filter_str in filter_list)]\n",
    "\n",
    "for url in filtered_urls:\n",
    "    print(url)\n"
   ]
  },
  {
   "cell_type": "markdown",
   "metadata": {},
   "source": [
    "# Finding the request(s) needed"
   ]
  },
  {
   "cell_type": "code",
   "execution_count": 63,
   "metadata": {},
   "outputs": [],
   "source": [
    "def check_url_contents(url, words=None, regex_patterns=None):\n",
    "    headers = { \n",
    "           \"User-Agent\": \"Mozilla/5.0 (Windows NT 10.0; Win64; x64) AppleWebKit/537.36 (KHTML, like Gecko) Chrome/58.0.3029.110 Safari/537.3\"\n",
    "    }\n",
    "    response = requests.get(url, headers=headers)\n",
    "    \n",
    "    results = {'words': {}, 'regex_patterns': {}}\n",
    "    \n",
    "    if response.status_code == 200:\n",
    "        content = response.text\n",
    "        \n",
    "        if words:\n",
    "            for word in words:\n",
    "                count = content.lower().count(word.lower())\n",
    "                results['words'][word] = count\n",
    "    \n",
    "    return results"
   ]
  },
  {
   "cell_type": "code",
   "execution_count": 72,
   "metadata": {},
   "outputs": [],
   "source": [
    "def rank_urls(urls, words=None, regex_patterns=None):\n",
    "    url_scores = {}\n",
    "    for url in urls:\n",
    "        restults = check_url_contents(url, words,regex_patterns)\n",
    "        \n",
    "        score=0\n",
    "        if words:\n",
    "            score+= sum(restults['words'].values())\n",
    "        if regex_patterns:\n",
    "            score+= sum(restults['regex_patterns'].values())\n",
    "        url_scores[url] = score\n",
    "    \n",
    "    sorted_urls = sorted(url_scores.items(), key=lambda x:x[1], reverse=True)\n",
    "\n",
    "    #returns a list sorted based on the amount of occurences of both the strings and the regex\n",
    "    return sorted_urls\n",
    "        "
   ]
  },
  {
   "cell_type": "code",
   "execution_count": 77,
   "metadata": {},
   "outputs": [
    {
     "name": "stdout",
     "output_type": "stream",
     "text": [
      "https://www.oddsportal.com/ajax-sport-country-tournament_/1/zun4qzgk/X0/1/?_=1714565427\n",
      "https://content.livesportmedia.eu/delivery?zones=3991,3989,3990,5989,6061&clientType=PC&no_flash=1&programmatic=false\n",
      "https://geolocation.onetrust.com/cookieconsentpub/v1/geo/location\n",
      "https://www.oddsportal.com/ajax-getCount/MyBookmarks/\n",
      "https://www.oddsportal.com/ajax-getCount/MyCoupon/\n",
      "https://www.oddsportal.com/set-time-zone/37/\n"
     ]
    }
   ],
   "source": [
    "result = rank_urls(filtered_urls, ['odd', 'bet'])\n",
    "\n",
    "for entry in result:\n",
    "    print(entry[0])"
   ]
  }
 ],
 "metadata": {
  "kernelspec": {
   "display_name": "Python 3",
   "language": "python",
   "name": "python3"
  },
  "language_info": {
   "codemirror_mode": {
    "name": "ipython",
    "version": 3
   },
   "file_extension": ".py",
   "mimetype": "text/x-python",
   "name": "python",
   "nbconvert_exporter": "python",
   "pygments_lexer": "ipython3",
   "version": "3.10.2"
  }
 },
 "nbformat": 4,
 "nbformat_minor": 2
}
